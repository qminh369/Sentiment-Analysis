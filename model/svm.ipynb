{
  "cells": [
    {
      "cell_type": "code",
      "execution_count": null,
      "metadata": {
        "colab": {
          "base_uri": "https://localhost:8080/"
        },
        "id": "Y7Kq4SLVPa6k",
        "outputId": "1ca50b67-8afa-4204-e05c-dab7bba410c6"
      },
      "outputs": [
        {
          "output_type": "stream",
          "name": "stdout",
          "text": [
            "Mounted at /content/drive/\n"
          ]
        }
      ],
      "source": [
        "from google.colab import drive\n",
        "drive.mount('/content/drive/')"
      ]
    },
    {
      "cell_type": "code",
      "execution_count": null,
      "metadata": {
        "id": "Ul7AlWeaP5L2"
      },
      "outputs": [],
      "source": [
        "import numpy as np\n",
        "import matplotlib.pyplot as plt\n",
        "import pandas as pd\n",
        "import seaborn as sns"
      ]
    },
    {
      "cell_type": "code",
      "execution_count": null,
      "metadata": {
        "colab": {
          "base_uri": "https://localhost:8080/",
          "height": 424
        },
        "id": "rhTHbhtIPiS_",
        "outputId": "ad1be1fe-ae7c-412d-d797-101394068b07"
      },
      "outputs": [
        {
          "output_type": "execute_result",
          "data": {
            "text/plain": [
              "     STT                                            content  sentiment\n",
              "0      0  Hình thức đẹp, còn nguyên màng co. Nội dung th...          0\n",
              "1      1  Với mỗi tác phẩm của chú Nguyễn Nhật Ánh mình ...          1\n",
              "2      2  Truyện này của nguyễn nhật ánh khác hẳn với nh...          1\n",
              "3      3  Truyện viết nhẹ nhàng, dí dỏm. Ngôn ngữ trong ...          0\n",
              "4      4  Mua sách ngay 11/11, hẹn 1 tuần có mà mới 1 ng...          1\n",
              "..   ...                                                ...        ...\n",
              "979  988  Giấy quá mỏng, chỉ dùng in tạm chứ nếu dùng in...          0\n",
              "980  989  Giấy ổn, giao hàng nhanh, đóng gói tiết kiệm, ...          0\n",
              "981  990  chưa đọc nên không biết ra sao nhưng cảm thấy ...          0\n",
              "982  991  Truyện thì chưa đọc nên chưa biết nội dung như...          0\n",
              "983  992  Giao hàng nhanh hơn dự kiến, chất lượng rất tố...          0\n",
              "\n",
              "[984 rows x 3 columns]"
            ],
            "text/html": [
              "\n",
              "\n",
              "  <div id=\"df-5abcc514-7a65-4ef8-b5dd-e7b3c6334240\">\n",
              "    <div class=\"colab-df-container\">\n",
              "      <div>\n",
              "<style scoped>\n",
              "    .dataframe tbody tr th:only-of-type {\n",
              "        vertical-align: middle;\n",
              "    }\n",
              "\n",
              "    .dataframe tbody tr th {\n",
              "        vertical-align: top;\n",
              "    }\n",
              "\n",
              "    .dataframe thead th {\n",
              "        text-align: right;\n",
              "    }\n",
              "</style>\n",
              "<table border=\"1\" class=\"dataframe\">\n",
              "  <thead>\n",
              "    <tr style=\"text-align: right;\">\n",
              "      <th></th>\n",
              "      <th>STT</th>\n",
              "      <th>content</th>\n",
              "      <th>sentiment</th>\n",
              "    </tr>\n",
              "  </thead>\n",
              "  <tbody>\n",
              "    <tr>\n",
              "      <th>0</th>\n",
              "      <td>0</td>\n",
              "      <td>Hình thức đẹp, còn nguyên màng co. Nội dung th...</td>\n",
              "      <td>0</td>\n",
              "    </tr>\n",
              "    <tr>\n",
              "      <th>1</th>\n",
              "      <td>1</td>\n",
              "      <td>Với mỗi tác phẩm của chú Nguyễn Nhật Ánh mình ...</td>\n",
              "      <td>1</td>\n",
              "    </tr>\n",
              "    <tr>\n",
              "      <th>2</th>\n",
              "      <td>2</td>\n",
              "      <td>Truyện này của nguyễn nhật ánh khác hẳn với nh...</td>\n",
              "      <td>1</td>\n",
              "    </tr>\n",
              "    <tr>\n",
              "      <th>3</th>\n",
              "      <td>3</td>\n",
              "      <td>Truyện viết nhẹ nhàng, dí dỏm. Ngôn ngữ trong ...</td>\n",
              "      <td>0</td>\n",
              "    </tr>\n",
              "    <tr>\n",
              "      <th>4</th>\n",
              "      <td>4</td>\n",
              "      <td>Mua sách ngay 11/11, hẹn 1 tuần có mà mới 1 ng...</td>\n",
              "      <td>1</td>\n",
              "    </tr>\n",
              "    <tr>\n",
              "      <th>...</th>\n",
              "      <td>...</td>\n",
              "      <td>...</td>\n",
              "      <td>...</td>\n",
              "    </tr>\n",
              "    <tr>\n",
              "      <th>979</th>\n",
              "      <td>988</td>\n",
              "      <td>Giấy quá mỏng, chỉ dùng in tạm chứ nếu dùng in...</td>\n",
              "      <td>0</td>\n",
              "    </tr>\n",
              "    <tr>\n",
              "      <th>980</th>\n",
              "      <td>989</td>\n",
              "      <td>Giấy ổn, giao hàng nhanh, đóng gói tiết kiệm, ...</td>\n",
              "      <td>0</td>\n",
              "    </tr>\n",
              "    <tr>\n",
              "      <th>981</th>\n",
              "      <td>990</td>\n",
              "      <td>chưa đọc nên không biết ra sao nhưng cảm thấy ...</td>\n",
              "      <td>0</td>\n",
              "    </tr>\n",
              "    <tr>\n",
              "      <th>982</th>\n",
              "      <td>991</td>\n",
              "      <td>Truyện thì chưa đọc nên chưa biết nội dung như...</td>\n",
              "      <td>0</td>\n",
              "    </tr>\n",
              "    <tr>\n",
              "      <th>983</th>\n",
              "      <td>992</td>\n",
              "      <td>Giao hàng nhanh hơn dự kiến, chất lượng rất tố...</td>\n",
              "      <td>0</td>\n",
              "    </tr>\n",
              "  </tbody>\n",
              "</table>\n",
              "<p>984 rows × 3 columns</p>\n",
              "</div>\n",
              "      <button class=\"colab-df-convert\" onclick=\"convertToInteractive('df-5abcc514-7a65-4ef8-b5dd-e7b3c6334240')\"\n",
              "              title=\"Convert this dataframe to an interactive table.\"\n",
              "              style=\"display:none;\">\n",
              "\n",
              "  <svg xmlns=\"http://www.w3.org/2000/svg\" height=\"24px\"viewBox=\"0 0 24 24\"\n",
              "       width=\"24px\">\n",
              "    <path d=\"M0 0h24v24H0V0z\" fill=\"none\"/>\n",
              "    <path d=\"M18.56 5.44l.94 2.06.94-2.06 2.06-.94-2.06-.94-.94-2.06-.94 2.06-2.06.94zm-11 1L8.5 8.5l.94-2.06 2.06-.94-2.06-.94L8.5 2.5l-.94 2.06-2.06.94zm10 10l.94 2.06.94-2.06 2.06-.94-2.06-.94-.94-2.06-.94 2.06-2.06.94z\"/><path d=\"M17.41 7.96l-1.37-1.37c-.4-.4-.92-.59-1.43-.59-.52 0-1.04.2-1.43.59L10.3 9.45l-7.72 7.72c-.78.78-.78 2.05 0 2.83L4 21.41c.39.39.9.59 1.41.59.51 0 1.02-.2 1.41-.59l7.78-7.78 2.81-2.81c.8-.78.8-2.07 0-2.86zM5.41 20L4 18.59l7.72-7.72 1.47 1.35L5.41 20z\"/>\n",
              "  </svg>\n",
              "      </button>\n",
              "\n",
              "\n",
              "\n",
              "    <div id=\"df-c8a6bf08-ed84-44a9-ae75-f3213974d24c\">\n",
              "      <button class=\"colab-df-quickchart\" onclick=\"quickchart('df-c8a6bf08-ed84-44a9-ae75-f3213974d24c')\"\n",
              "              title=\"Suggest charts.\"\n",
              "              style=\"display:none;\">\n",
              "\n",
              "<svg xmlns=\"http://www.w3.org/2000/svg\" height=\"24px\"viewBox=\"0 0 24 24\"\n",
              "     width=\"24px\">\n",
              "    <g>\n",
              "        <path d=\"M19 3H5c-1.1 0-2 .9-2 2v14c0 1.1.9 2 2 2h14c1.1 0 2-.9 2-2V5c0-1.1-.9-2-2-2zM9 17H7v-7h2v7zm4 0h-2V7h2v10zm4 0h-2v-4h2v4z\"/>\n",
              "    </g>\n",
              "</svg>\n",
              "      </button>\n",
              "    </div>\n",
              "\n",
              "<style>\n",
              "  .colab-df-quickchart {\n",
              "    background-color: #E8F0FE;\n",
              "    border: none;\n",
              "    border-radius: 50%;\n",
              "    cursor: pointer;\n",
              "    display: none;\n",
              "    fill: #1967D2;\n",
              "    height: 32px;\n",
              "    padding: 0 0 0 0;\n",
              "    width: 32px;\n",
              "  }\n",
              "\n",
              "  .colab-df-quickchart:hover {\n",
              "    background-color: #E2EBFA;\n",
              "    box-shadow: 0px 1px 2px rgba(60, 64, 67, 0.3), 0px 1px 3px 1px rgba(60, 64, 67, 0.15);\n",
              "    fill: #174EA6;\n",
              "  }\n",
              "\n",
              "  [theme=dark] .colab-df-quickchart {\n",
              "    background-color: #3B4455;\n",
              "    fill: #D2E3FC;\n",
              "  }\n",
              "\n",
              "  [theme=dark] .colab-df-quickchart:hover {\n",
              "    background-color: #434B5C;\n",
              "    box-shadow: 0px 1px 3px 1px rgba(0, 0, 0, 0.15);\n",
              "    filter: drop-shadow(0px 1px 2px rgba(0, 0, 0, 0.3));\n",
              "    fill: #FFFFFF;\n",
              "  }\n",
              "</style>\n",
              "\n",
              "    <script>\n",
              "      async function quickchart(key) {\n",
              "        const containerElement = document.querySelector('#' + key);\n",
              "        const charts = await google.colab.kernel.invokeFunction(\n",
              "            'suggestCharts', [key], {});\n",
              "      }\n",
              "    </script>\n",
              "\n",
              "      <script>\n",
              "\n",
              "function displayQuickchartButton(domScope) {\n",
              "  let quickchartButtonEl =\n",
              "    domScope.querySelector('#df-c8a6bf08-ed84-44a9-ae75-f3213974d24c button.colab-df-quickchart');\n",
              "  quickchartButtonEl.style.display =\n",
              "    google.colab.kernel.accessAllowed ? 'block' : 'none';\n",
              "}\n",
              "\n",
              "        displayQuickchartButton(document);\n",
              "      </script>\n",
              "      <style>\n",
              "    .colab-df-container {\n",
              "      display:flex;\n",
              "      flex-wrap:wrap;\n",
              "      gap: 12px;\n",
              "    }\n",
              "\n",
              "    .colab-df-convert {\n",
              "      background-color: #E8F0FE;\n",
              "      border: none;\n",
              "      border-radius: 50%;\n",
              "      cursor: pointer;\n",
              "      display: none;\n",
              "      fill: #1967D2;\n",
              "      height: 32px;\n",
              "      padding: 0 0 0 0;\n",
              "      width: 32px;\n",
              "    }\n",
              "\n",
              "    .colab-df-convert:hover {\n",
              "      background-color: #E2EBFA;\n",
              "      box-shadow: 0px 1px 2px rgba(60, 64, 67, 0.3), 0px 1px 3px 1px rgba(60, 64, 67, 0.15);\n",
              "      fill: #174EA6;\n",
              "    }\n",
              "\n",
              "    [theme=dark] .colab-df-convert {\n",
              "      background-color: #3B4455;\n",
              "      fill: #D2E3FC;\n",
              "    }\n",
              "\n",
              "    [theme=dark] .colab-df-convert:hover {\n",
              "      background-color: #434B5C;\n",
              "      box-shadow: 0px 1px 3px 1px rgba(0, 0, 0, 0.15);\n",
              "      filter: drop-shadow(0px 1px 2px rgba(0, 0, 0, 0.3));\n",
              "      fill: #FFFFFF;\n",
              "    }\n",
              "  </style>\n",
              "\n",
              "      <script>\n",
              "        const buttonEl =\n",
              "          document.querySelector('#df-5abcc514-7a65-4ef8-b5dd-e7b3c6334240 button.colab-df-convert');\n",
              "        buttonEl.style.display =\n",
              "          google.colab.kernel.accessAllowed ? 'block' : 'none';\n",
              "\n",
              "        async function convertToInteractive(key) {\n",
              "          const element = document.querySelector('#df-5abcc514-7a65-4ef8-b5dd-e7b3c6334240');\n",
              "          const dataTable =\n",
              "            await google.colab.kernel.invokeFunction('convertToInteractive',\n",
              "                                                     [key], {});\n",
              "          if (!dataTable) return;\n",
              "\n",
              "          const docLinkHtml = 'Like what you see? Visit the ' +\n",
              "            '<a target=\"_blank\" href=https://colab.research.google.com/notebooks/data_table.ipynb>data table notebook</a>'\n",
              "            + ' to learn more about interactive tables.';\n",
              "          element.innerHTML = '';\n",
              "          dataTable['output_type'] = 'display_data';\n",
              "          await google.colab.output.renderOutput(dataTable, element);\n",
              "          const docLink = document.createElement('div');\n",
              "          docLink.innerHTML = docLinkHtml;\n",
              "          element.appendChild(docLink);\n",
              "        }\n",
              "      </script>\n",
              "    </div>\n",
              "  </div>\n"
            ]
          },
          "metadata": {},
          "execution_count": 3
        }
      ],
      "source": [
        "data_normalized = pd.read_csv('/content/drive/MyDrive/Đồ án 1/Test/data_balanced.csv')\n",
        "data_normalized"
      ]
    },
    {
      "cell_type": "code",
      "execution_count": null,
      "metadata": {
        "colab": {
          "base_uri": "https://localhost:8080/",
          "height": 424
        },
        "id": "Z5q6R8KL566O",
        "outputId": "2ba94baf-ff48-4e05-c017-5b528c3a09cf"
      },
      "outputs": [
        {
          "output_type": "execute_result",
          "data": {
            "text/plain": [
              "                                               content  sentiment\n",
              "0    Hình thức đẹp, còn nguyên màng co. Nội dung th...          0\n",
              "1    Với mỗi tác phẩm của chú Nguyễn Nhật Ánh mình ...          1\n",
              "2    Truyện này của nguyễn nhật ánh khác hẳn với nh...          1\n",
              "3    Truyện viết nhẹ nhàng, dí dỏm. Ngôn ngữ trong ...          0\n",
              "4    Mua sách ngay 11/11, hẹn 1 tuần có mà mới 1 ng...          1\n",
              "..                                                 ...        ...\n",
              "979  Giấy quá mỏng, chỉ dùng in tạm chứ nếu dùng in...          0\n",
              "980  Giấy ổn, giao hàng nhanh, đóng gói tiết kiệm, ...          0\n",
              "981  chưa đọc nên không biết ra sao nhưng cảm thấy ...          0\n",
              "982  Truyện thì chưa đọc nên chưa biết nội dung như...          0\n",
              "983  Giao hàng nhanh hơn dự kiến, chất lượng rất tố...          0\n",
              "\n",
              "[984 rows x 2 columns]"
            ],
            "text/html": [
              "\n",
              "\n",
              "  <div id=\"df-4e57c381-b620-45b7-908c-f5747d56015c\">\n",
              "    <div class=\"colab-df-container\">\n",
              "      <div>\n",
              "<style scoped>\n",
              "    .dataframe tbody tr th:only-of-type {\n",
              "        vertical-align: middle;\n",
              "    }\n",
              "\n",
              "    .dataframe tbody tr th {\n",
              "        vertical-align: top;\n",
              "    }\n",
              "\n",
              "    .dataframe thead th {\n",
              "        text-align: right;\n",
              "    }\n",
              "</style>\n",
              "<table border=\"1\" class=\"dataframe\">\n",
              "  <thead>\n",
              "    <tr style=\"text-align: right;\">\n",
              "      <th></th>\n",
              "      <th>content</th>\n",
              "      <th>sentiment</th>\n",
              "    </tr>\n",
              "  </thead>\n",
              "  <tbody>\n",
              "    <tr>\n",
              "      <th>0</th>\n",
              "      <td>Hình thức đẹp, còn nguyên màng co. Nội dung th...</td>\n",
              "      <td>0</td>\n",
              "    </tr>\n",
              "    <tr>\n",
              "      <th>1</th>\n",
              "      <td>Với mỗi tác phẩm của chú Nguyễn Nhật Ánh mình ...</td>\n",
              "      <td>1</td>\n",
              "    </tr>\n",
              "    <tr>\n",
              "      <th>2</th>\n",
              "      <td>Truyện này của nguyễn nhật ánh khác hẳn với nh...</td>\n",
              "      <td>1</td>\n",
              "    </tr>\n",
              "    <tr>\n",
              "      <th>3</th>\n",
              "      <td>Truyện viết nhẹ nhàng, dí dỏm. Ngôn ngữ trong ...</td>\n",
              "      <td>0</td>\n",
              "    </tr>\n",
              "    <tr>\n",
              "      <th>4</th>\n",
              "      <td>Mua sách ngay 11/11, hẹn 1 tuần có mà mới 1 ng...</td>\n",
              "      <td>1</td>\n",
              "    </tr>\n",
              "    <tr>\n",
              "      <th>...</th>\n",
              "      <td>...</td>\n",
              "      <td>...</td>\n",
              "    </tr>\n",
              "    <tr>\n",
              "      <th>979</th>\n",
              "      <td>Giấy quá mỏng, chỉ dùng in tạm chứ nếu dùng in...</td>\n",
              "      <td>0</td>\n",
              "    </tr>\n",
              "    <tr>\n",
              "      <th>980</th>\n",
              "      <td>Giấy ổn, giao hàng nhanh, đóng gói tiết kiệm, ...</td>\n",
              "      <td>0</td>\n",
              "    </tr>\n",
              "    <tr>\n",
              "      <th>981</th>\n",
              "      <td>chưa đọc nên không biết ra sao nhưng cảm thấy ...</td>\n",
              "      <td>0</td>\n",
              "    </tr>\n",
              "    <tr>\n",
              "      <th>982</th>\n",
              "      <td>Truyện thì chưa đọc nên chưa biết nội dung như...</td>\n",
              "      <td>0</td>\n",
              "    </tr>\n",
              "    <tr>\n",
              "      <th>983</th>\n",
              "      <td>Giao hàng nhanh hơn dự kiến, chất lượng rất tố...</td>\n",
              "      <td>0</td>\n",
              "    </tr>\n",
              "  </tbody>\n",
              "</table>\n",
              "<p>984 rows × 2 columns</p>\n",
              "</div>\n",
              "      <button class=\"colab-df-convert\" onclick=\"convertToInteractive('df-4e57c381-b620-45b7-908c-f5747d56015c')\"\n",
              "              title=\"Convert this dataframe to an interactive table.\"\n",
              "              style=\"display:none;\">\n",
              "\n",
              "  <svg xmlns=\"http://www.w3.org/2000/svg\" height=\"24px\"viewBox=\"0 0 24 24\"\n",
              "       width=\"24px\">\n",
              "    <path d=\"M0 0h24v24H0V0z\" fill=\"none\"/>\n",
              "    <path d=\"M18.56 5.44l.94 2.06.94-2.06 2.06-.94-2.06-.94-.94-2.06-.94 2.06-2.06.94zm-11 1L8.5 8.5l.94-2.06 2.06-.94-2.06-.94L8.5 2.5l-.94 2.06-2.06.94zm10 10l.94 2.06.94-2.06 2.06-.94-2.06-.94-.94-2.06-.94 2.06-2.06.94z\"/><path d=\"M17.41 7.96l-1.37-1.37c-.4-.4-.92-.59-1.43-.59-.52 0-1.04.2-1.43.59L10.3 9.45l-7.72 7.72c-.78.78-.78 2.05 0 2.83L4 21.41c.39.39.9.59 1.41.59.51 0 1.02-.2 1.41-.59l7.78-7.78 2.81-2.81c.8-.78.8-2.07 0-2.86zM5.41 20L4 18.59l7.72-7.72 1.47 1.35L5.41 20z\"/>\n",
              "  </svg>\n",
              "      </button>\n",
              "\n",
              "\n",
              "\n",
              "    <div id=\"df-81610ee9-5412-4efa-9a87-d82319df3a67\">\n",
              "      <button class=\"colab-df-quickchart\" onclick=\"quickchart('df-81610ee9-5412-4efa-9a87-d82319df3a67')\"\n",
              "              title=\"Suggest charts.\"\n",
              "              style=\"display:none;\">\n",
              "\n",
              "<svg xmlns=\"http://www.w3.org/2000/svg\" height=\"24px\"viewBox=\"0 0 24 24\"\n",
              "     width=\"24px\">\n",
              "    <g>\n",
              "        <path d=\"M19 3H5c-1.1 0-2 .9-2 2v14c0 1.1.9 2 2 2h14c1.1 0 2-.9 2-2V5c0-1.1-.9-2-2-2zM9 17H7v-7h2v7zm4 0h-2V7h2v10zm4 0h-2v-4h2v4z\"/>\n",
              "    </g>\n",
              "</svg>\n",
              "      </button>\n",
              "    </div>\n",
              "\n",
              "<style>\n",
              "  .colab-df-quickchart {\n",
              "    background-color: #E8F0FE;\n",
              "    border: none;\n",
              "    border-radius: 50%;\n",
              "    cursor: pointer;\n",
              "    display: none;\n",
              "    fill: #1967D2;\n",
              "    height: 32px;\n",
              "    padding: 0 0 0 0;\n",
              "    width: 32px;\n",
              "  }\n",
              "\n",
              "  .colab-df-quickchart:hover {\n",
              "    background-color: #E2EBFA;\n",
              "    box-shadow: 0px 1px 2px rgba(60, 64, 67, 0.3), 0px 1px 3px 1px rgba(60, 64, 67, 0.15);\n",
              "    fill: #174EA6;\n",
              "  }\n",
              "\n",
              "  [theme=dark] .colab-df-quickchart {\n",
              "    background-color: #3B4455;\n",
              "    fill: #D2E3FC;\n",
              "  }\n",
              "\n",
              "  [theme=dark] .colab-df-quickchart:hover {\n",
              "    background-color: #434B5C;\n",
              "    box-shadow: 0px 1px 3px 1px rgba(0, 0, 0, 0.15);\n",
              "    filter: drop-shadow(0px 1px 2px rgba(0, 0, 0, 0.3));\n",
              "    fill: #FFFFFF;\n",
              "  }\n",
              "</style>\n",
              "\n",
              "    <script>\n",
              "      async function quickchart(key) {\n",
              "        const containerElement = document.querySelector('#' + key);\n",
              "        const charts = await google.colab.kernel.invokeFunction(\n",
              "            'suggestCharts', [key], {});\n",
              "      }\n",
              "    </script>\n",
              "\n",
              "      <script>\n",
              "\n",
              "function displayQuickchartButton(domScope) {\n",
              "  let quickchartButtonEl =\n",
              "    domScope.querySelector('#df-81610ee9-5412-4efa-9a87-d82319df3a67 button.colab-df-quickchart');\n",
              "  quickchartButtonEl.style.display =\n",
              "    google.colab.kernel.accessAllowed ? 'block' : 'none';\n",
              "}\n",
              "\n",
              "        displayQuickchartButton(document);\n",
              "      </script>\n",
              "      <style>\n",
              "    .colab-df-container {\n",
              "      display:flex;\n",
              "      flex-wrap:wrap;\n",
              "      gap: 12px;\n",
              "    }\n",
              "\n",
              "    .colab-df-convert {\n",
              "      background-color: #E8F0FE;\n",
              "      border: none;\n",
              "      border-radius: 50%;\n",
              "      cursor: pointer;\n",
              "      display: none;\n",
              "      fill: #1967D2;\n",
              "      height: 32px;\n",
              "      padding: 0 0 0 0;\n",
              "      width: 32px;\n",
              "    }\n",
              "\n",
              "    .colab-df-convert:hover {\n",
              "      background-color: #E2EBFA;\n",
              "      box-shadow: 0px 1px 2px rgba(60, 64, 67, 0.3), 0px 1px 3px 1px rgba(60, 64, 67, 0.15);\n",
              "      fill: #174EA6;\n",
              "    }\n",
              "\n",
              "    [theme=dark] .colab-df-convert {\n",
              "      background-color: #3B4455;\n",
              "      fill: #D2E3FC;\n",
              "    }\n",
              "\n",
              "    [theme=dark] .colab-df-convert:hover {\n",
              "      background-color: #434B5C;\n",
              "      box-shadow: 0px 1px 3px 1px rgba(0, 0, 0, 0.15);\n",
              "      filter: drop-shadow(0px 1px 2px rgba(0, 0, 0, 0.3));\n",
              "      fill: #FFFFFF;\n",
              "    }\n",
              "  </style>\n",
              "\n",
              "      <script>\n",
              "        const buttonEl =\n",
              "          document.querySelector('#df-4e57c381-b620-45b7-908c-f5747d56015c button.colab-df-convert');\n",
              "        buttonEl.style.display =\n",
              "          google.colab.kernel.accessAllowed ? 'block' : 'none';\n",
              "\n",
              "        async function convertToInteractive(key) {\n",
              "          const element = document.querySelector('#df-4e57c381-b620-45b7-908c-f5747d56015c');\n",
              "          const dataTable =\n",
              "            await google.colab.kernel.invokeFunction('convertToInteractive',\n",
              "                                                     [key], {});\n",
              "          if (!dataTable) return;\n",
              "\n",
              "          const docLinkHtml = 'Like what you see? Visit the ' +\n",
              "            '<a target=\"_blank\" href=https://colab.research.google.com/notebooks/data_table.ipynb>data table notebook</a>'\n",
              "            + ' to learn more about interactive tables.';\n",
              "          element.innerHTML = '';\n",
              "          dataTable['output_type'] = 'display_data';\n",
              "          await google.colab.output.renderOutput(dataTable, element);\n",
              "          const docLink = document.createElement('div');\n",
              "          docLink.innerHTML = docLinkHtml;\n",
              "          element.appendChild(docLink);\n",
              "        }\n",
              "      </script>\n",
              "    </div>\n",
              "  </div>\n"
            ]
          },
          "metadata": {},
          "execution_count": 4
        }
      ],
      "source": [
        "data_normalized = data_normalized.drop('STT', axis = 1)\n",
        "data_normalized"
      ]
    },
    {
      "cell_type": "code",
      "execution_count": null,
      "metadata": {
        "colab": {
          "base_uri": "https://localhost:8080/"
        },
        "id": "-iOKc9NC6kMq",
        "outputId": "128fd77d-9453-42d8-ab8d-fe362fb10055"
      },
      "outputs": [
        {
          "output_type": "execute_result",
          "data": {
            "text/plain": [
              "array([ 0,  1, -1])"
            ]
          },
          "metadata": {},
          "execution_count": 5
        }
      ],
      "source": [
        "data_normalized['sentiment'].unique()"
      ]
    },
    {
      "cell_type": "code",
      "execution_count": null,
      "metadata": {
        "colab": {
          "base_uri": "https://localhost:8080/"
        },
        "id": "VFYTzo5g6uEe",
        "outputId": "304aa75d-a77d-44c3-a9bf-e85f8d27fbd6"
      },
      "outputs": [
        {
          "output_type": "execute_result",
          "data": {
            "text/plain": [
              "-1    334\n",
              " 0    329\n",
              " 1    321\n",
              "Name: sentiment, dtype: int64"
            ]
          },
          "metadata": {},
          "execution_count": 6
        }
      ],
      "source": [
        "data_normalized['sentiment'].value_counts()"
      ]
    },
    {
      "cell_type": "code",
      "execution_count": null,
      "metadata": {
        "colab": {
          "base_uri": "https://localhost:8080/",
          "height": 435
        },
        "id": "gNTGEl0R6E37",
        "outputId": "c919c19b-8a40-4653-e606-70451b3ba68c"
      },
      "outputs": [
        {
          "output_type": "display_data",
          "data": {
            "text/plain": [
              "<Figure size 640x480 with 1 Axes>"
            ],
            "image/png": "[encoded data removed]"
          },
          "metadata": {}
        }
      ],
      "source": [
        "sentiment = ['Positive', 'Negative', 'Neutral']\n",
        "counts = data_normalized['sentiment'].value_counts()\n",
        "\n",
        "plt.bar(sentiment, counts)\n",
        "plt.show()"
      ]
    },
    {
      "cell_type": "code",
      "execution_count": null,
      "metadata": {
        "colab": {
          "base_uri": "https://localhost:8080/"
        },
        "id": "vN5q19EP7ydu",
        "outputId": "48bfe3ae-c0f5-4dfa-c12d-75135ed6f8e2"
      },
      "outputs": [
        {
          "output_type": "stream",
          "name": "stdout",
          "text": [
            "Collecting pyvi\n",
            "  Downloading pyvi-0.1.1-py2.py3-none-any.whl (8.5 MB)\n",
            "\u001b[2K     \u001b[90m━━━━━━━━━━━━━━━━━━━━━━━━━━━━━━━━━━━━━━━━\u001b[0m \u001b[32m8.5/8.5 MB\u001b[0m \u001b[31m15.0 MB/s\u001b[0m eta \u001b[36m0:00:00\u001b[0m\n",
            "\u001b[?25hRequirement already satisfied: scikit-learn in /usr/local/lib/python3.10/dist-packages (from pyvi) (1.2.2)\n",
            "Collecting sklearn-crfsuite (from pyvi)\n",
            "  Downloading sklearn_crfsuite-0.3.6-py2.py3-none-any.whl (12 kB)\n",
            "Requirement already satisfied: numpy>=1.17.3 in /usr/local/lib/python3.10/dist-packages (from scikit-learn->pyvi) (1.22.4)\n",
            "Requirement already satisfied: scipy>=1.3.2 in /usr/local/lib/python3.10/dist-packages (from scikit-learn->pyvi) (1.10.1)\n",
            "Requirement already satisfied: joblib>=1.1.1 in /usr/local/lib/python3.10/dist-packages (from scikit-learn->pyvi) (1.3.1)\n",
            "Requirement already satisfied: threadpoolctl>=2.0.0 in /usr/local/lib/python3.10/dist-packages (from scikit-learn->pyvi) (3.2.0)\n",
            "Collecting python-crfsuite>=0.8.3 (from sklearn-crfsuite->pyvi)\n",
            "  Downloading python_crfsuite-0.9.9-cp310-cp310-manylinux_2_17_x86_64.manylinux2014_x86_64.whl (993 kB)\n",
            "\u001b[2K     \u001b[90m━━━━━━━━━━━━━━━━━━━━━━━━━━━━━━━━━━━━━━\u001b[0m \u001b[32m993.5/993.5 kB\u001b[0m \u001b[31m27.6 MB/s\u001b[0m eta \u001b[36m0:00:00\u001b[0m\n",
            "\u001b[?25hRequirement already satisfied: six in /usr/local/lib/python3.10/dist-packages (from sklearn-crfsuite->pyvi) (1.16.0)\n",
            "Requirement already satisfied: tabulate in /usr/local/lib/python3.10/dist-packages (from sklearn-crfsuite->pyvi) (0.9.0)\n",
            "Requirement already satisfied: tqdm>=2.0 in /usr/local/lib/python3.10/dist-packages (from sklearn-crfsuite->pyvi) (4.65.0)\n",
            "Installing collected packages: python-crfsuite, sklearn-crfsuite, pyvi\n",
            "Successfully installed python-crfsuite-0.9.9 pyvi-0.1.1 sklearn-crfsuite-0.3.6\n"
          ]
        }
      ],
      "source": [
        "!pip install pyvi"
      ]
    },
    {
      "cell_type": "code",
      "execution_count": null,
      "metadata": {
        "id": "W9Cr9zW375wD"
      },
      "outputs": [],
      "source": [
        "import re\n",
        "from pyvi import ViTokenizer\n",
        "from pyvi import ViUtils"
      ]
    },
    {
      "cell_type": "code",
      "execution_count": null,
      "metadata": {
        "id": "qqaSlkkn78AE"
      },
      "outputs": [],
      "source": [
        "uniChars = \"àáảãạâầấẩẫậăằắẳẵặèéẻẽẹêềếểễệđìíỉĩịòóỏõọôồốổỗộơờớởỡợùúủũụưừứửữựỳýỷỹỵÀÁẢÃẠÂẦẤẨẪẬĂẰẮẲẴẶÈÉẺẼẸÊỀẾỂỄỆĐÌÍỈĨỊÒÓỎÕỌÔỒỐỔỖỘƠỜỚỞỠỢÙÚỦŨỤƯỪỨỬỮỰỲÝỶỸỴÂĂĐÔƠƯ\"\n",
        "unsignChars = \"aaaaaaaaaaaaaaaaaeeeeeeeeeeediiiiiooooooooooooooooouuuuuuuuuuuyyyyyAAAAAAAAAAAAAAAAAEEEEEEEEEEEDIIIOOOOOOOOOOOOOOOOOOOUUUUUUUUUUUYYYYYAADOOU\"\n",
        "\n",
        "def loaddicchar():\n",
        "    dic = {}\n",
        "    char1252 = 'à|á|ả|ã|ạ|ầ|ấ|ẩ|ẫ|ậ|ằ|ắ|ẳ|ẵ|ặ|è|é|ẻ|ẽ|ẹ|ề|ế|ể|ễ|ệ|ì|í|ỉ|ĩ|ị|ò|ó|ỏ|õ|ọ|ồ|ố|ổ|ỗ|ộ|ờ|ớ|ở|ỡ|ợ|ù|ú|ủ|ũ|ụ|ừ|ứ|ử|ữ|ự|ỳ|ý|ỷ|ỹ|ỵ|À|Á|Ả|Ã|Ạ|Ầ|Ấ|Ẩ|Ẫ|Ậ|Ằ|Ắ|Ẳ|Ẵ|Ặ|È|É|Ẻ|Ẽ|Ẹ|Ề|Ế|Ể|Ễ|Ệ|Ì|Í|Ỉ|Ĩ|Ị|Ò|Ó|Ỏ|Õ|Ọ|Ồ|Ố|Ổ|Ỗ|Ộ|Ờ|Ớ|Ở|Ỡ|Ợ|Ù|Ú|Ủ|Ũ|Ụ|Ừ|Ứ|Ử|Ữ|Ự|Ỳ|Ý|Ỷ|Ỹ|Ỵ'.split(\n",
        "        '|')\n",
        "    charutf8 = \"à|á|ả|ã|ạ|ầ|ấ|ẩ|ẫ|ậ|ằ|ắ|ẳ|ẵ|ặ|è|é|ẻ|ẽ|ẹ|ề|ế|ể|ễ|ệ|ì|í|ỉ|ĩ|ị|ò|ó|ỏ|õ|ọ|ồ|ố|ổ|ỗ|ộ|ờ|ớ|ở|ỡ|ợ|ù|ú|ủ|ũ|ụ|ừ|ứ|ử|ữ|ự|ỳ|ý|ỷ|ỹ|ỵ|À|Á|Ả|Ã|Ạ|Ầ|Ấ|Ẩ|Ẫ|Ậ|Ằ|Ắ|Ẳ|Ẵ|Ặ|È|É|Ẻ|Ẽ|Ẹ|Ề|Ế|Ể|Ễ|Ệ|Ì|Í|Ỉ|Ĩ|Ị|Ò|Ó|Ỏ|Õ|Ọ|Ồ|Ố|Ổ|Ỗ|Ộ|Ờ|Ớ|Ở|Ỡ|Ợ|Ù|Ú|Ủ|Ũ|Ụ|Ừ|Ứ|Ử|Ữ|Ự|Ỳ|Ý|Ỷ|Ỹ|Ỵ\".split(\n",
        "        '|')\n",
        "    for i in range(len(char1252)):\n",
        "        dic[char1252[i]] = charutf8[i]\n",
        "    return dic\n",
        "dicchar = loaddicchar()"
      ]
    },
    {
      "cell_type": "code",
      "execution_count": null,
      "metadata": {
        "id": "73FV05l17_RS"
      },
      "outputs": [],
      "source": [
        "def convert_unicode(txt):\n",
        "    return re.sub(\n",
        "        r'à|á|ả|ã|ạ|ầ|ấ|ẩ|ẫ|ậ|ằ|ắ|ẳ|ẵ|ặ|è|é|ẻ|ẽ|ẹ|ề|ế|ể|ễ|ệ|ì|í|ỉ|ĩ|ị|ò|ó|ỏ|õ|ọ|ồ|ố|ổ|ỗ|ộ|ờ|ớ|ở|ỡ|ợ|ù|ú|ủ|ũ|ụ|ừ|ứ|ử|ữ|ự|ỳ|ý|ỷ|ỹ|ỵ|À|Á|Ả|Ã|Ạ|Ầ|Ấ|Ẩ|Ẫ|Ậ|Ằ|Ắ|Ẳ|Ẵ|Ặ|È|É|Ẻ|Ẽ|Ẹ|Ề|Ế|Ể|Ễ|Ệ|Ì|Í|Ỉ|Ĩ|Ị|Ò|Ó|Ỏ|Õ|Ọ|Ồ|Ố|Ổ|Ỗ|Ộ|Ờ|Ớ|Ở|Ỡ|Ợ|Ù|Ú|Ủ|Ũ|Ụ|Ừ|Ứ|Ử|Ữ|Ự|Ỳ|Ý|Ỷ|Ỹ|Ỵ',\n",
        "        lambda x: dicchar[x.group()], txt)"
      ]
    },
    {
      "cell_type": "code",
      "execution_count": null,
      "metadata": {
        "id": "c9XiqwtE8A6L"
      },
      "outputs": [],
      "source": [
        "def clean_mess(mess):\n",
        "  mess_unic = convert_unicode(mess).lower()\n",
        "  mess_rmspectoken = re.findall(r'(?i)\\b[a-záàảãạăắằẳẵặâấầẩẫậéèẻẽẹêếềểễệóòỏõọôốồổỗộơớờởỡợíìỉĩịúùủũụưứừửữựýỳỷỹỵđ0-9]+\\b', mess_unic)\n",
        "  mess_norm = ' '.join(mess_rmspectoken)\n",
        "\n",
        "  # Chuẩn hóa kí tự kéo dài\n",
        "  mess_norm = re.sub(r'([A-Z])\\1+', lambda m: m.group(1).lower(), mess_norm, flags = re.IGNORECASE)\n",
        "\n",
        "  # Chuẩn hóa tiếng việt, thuật ngữ\n",
        "  replace_list = {\n",
        "  # Thuật ngữ (teencode) và các từ viết tắt\n",
        "  # Tập train\n",
        "  ' na ': u' nguyễn nhật ánh ', ' k ': u' không ', ' bookmark ': u' dấu trang ', ' plot twist ': u' kết thúc bất ngờ ',\n",
        "  ' twist ': u' kết thúc bất ngờ ', ' kg ': u' không ', ' r ': u' rồi ', ' sx ': u' nhận ', ' ncc ': u' nhà cung cấp ',\n",
        "  ' giao ship ': u' người giao hàng ', ' mousse ': u' vật liệu bảo vệ sách ', ' qh ': u' quỳnh hương ', ' shipper ': u' người giao hàng ',\n",
        "  ' tks ': u' cảm ơn', ' ekip ': u' đội ngũ ', u' ngừoi ': u' người ', ' book care ': u' bảo vệ sách ',\n",
        "  u' tđi ': ' tổng đài ', ' stress ': u' áp lực ', ' highly recommed ': u' rất khuyến khích ', ' xink ': u' xinh ',\n",
        "  u' tô ': u' tôi ', ' bookcare ': u' bảo vệ sách ', ' hqua ': u' hôm qua ', u' đáng ': u' đánh ', ' touchlit ': u' bút tô màu đặc biệt ',\n",
        "  ' ncl ': u' nói chung là ',  u' zời ': u' vời ', ' idol ': u' thần tượng ', ' cute ': u' dễ thương ',\n",
        "  ' shock ': u' xóc ', ' ok ': ' hợp lý ', ' ceo ': u' giám đốc điều hành ', ' vn ': u' việt nam ', ' thanks ': u' cảm ơn ',\n",
        "  ' review ': u' tóm tắt ', ' pharaoh ': u' hoàng đế ai cập', ' deadline ': u' công việc sắp hết hạn ', u' đc ': u' được ',\n",
        "  ' ship ': u' giao hàng ', ' comments ': u' các câu bình luận ', u' pé pé ': u' bé bé ', u' hổng ': u' không',\n",
        "  ' j ': u' gì ', ' ok ': ' đồng ý ',  ' postcard ': u' tấm bìa quảng cáo ', ' ok ': u' ổn ', ' nhma ': u' nhưng mà ',\n",
        "  ' bonus ': u' thưởng ', ' blah blah ': u' vân vân ', ' tv ': u' ti vi ',  ' e ': u' em ', ' ntn ': u' như thế này ',\n",
        "  ' nhg ': u' nhưng ', ' nxb ': u' nhà xuất bản ', u' đou ': u' đỡ ', ' cx ': u' cũng ', ' logic ': u' hợp lý ',\n",
        "  ' dc ': u' được ', ' online ': u' trực tuyến ', u' cám ơn ': u' cảm ơn ', ' nsx ': u' nhà sản xuất ',\n",
        "  u' sử lí ': u' xử lý ', ' made ': u' đến từ ', ' china ': u' trung quốc ', ' thailand ': u' thái lan ',\n",
        "  ' tn thpt qg ': u' trắc nghiệm trung học phổ thông quốc gia ', ' table ': u' bảng ', ' max ': u' giá trị lớn nhất ',\n",
        "  ' min ': u' giá trị nhỏ nhất ', ' sticker ': u' nhãn dán ', ' hn ': ' hà nội ', ' qg ': u' quốc gia ',\n",
        "  u' hịnn ': ' xịn ', u' mn ': u' mọi người ', u' dethuong gi đau â ': u' dễ thương ', ' speedtest ': u' tốc độ kiểm tra ',\n",
        "  ' test ': u' kiểm tra ', ' covid 19 ': u' dịch bệnh ', u' sức mạnh mớ ': u' sức mạnh mới ', ' kh ': ' khoa học ',\n",
        "  ' app ': u' ứng dụng ', ' comment ': ' bình luận ', ' recommend ': u' khuyến khích ', ' mk ': u' mình ',\n",
        "  u' hơn lag ': u' hơn là ', u' giân hờn ': u' giận hờn ', ' mjh ': u' mình ', ' cop ': u' sao chép ',\n",
        "  ' to do list ': u' cách quản lý thời gian ', ' mng ': u' mọi người ', ' gg ': u' công cụ tìm kiếm ',\n",
        "  u' lắm luon ': u' lắm luôn ', 'ỏh ': ' ', ' dethuong ': u' dễ thương ', u' kím ': u' kiếm ', ' , hjx ': ' ',\n",
        "  ' hk ': ' không ', ' caption ': ' tiêu đề ', u' pải ': u' phải ', ' bt ': u' biết ', ' shop ': u' cửa hàng ',\n",
        "  ' trend ': u' xu hướng ', ' thgian ': u' thời gian ', ' nv ': ' nhân viên ', ' hk ': ' không ', ' lm ': u' làm ',\n",
        "  u' cừoi ': u' cười ', ' kon ': u' con ', ' vd ': u' ví dụ ', ' mail ': u' thư điện tử ', ' complain ': u' phàn nàn ',\n",
        "  ' monh ': u' minh ', ' voucher ': u' phiếu giảm giá ', ' group ': u' nhóm ', ' sale ': u' bán hàng ', ' ndung ': u' nội dung ',\n",
        "  ' how ': u' làm thế nào ', ' toẹt ': u' tuyệt ', ' seal ': u' đánh dấu ', ' dth ': ' ', ' ms ': u' mới ',\n",
        "  ' rv ': u' tóm tắt ', ' audio ': u' bản nghe ', ' ebook ': u' sách điện tử ', ' nx ': u' nữa ', ' bt ': u' bài tập ',\n",
        "  ' thank you so much ': u' cảm ơn rất nhiều ', ' flashcard ': u' thẻ từ vựng ', ' app ': u' ứng dụng ', ' file ': u' tệp ',\n",
        "  ' perfect ': u' hoàn hảo ', ' note ': u' ghi chú ', ' mn ': u' mọi người ', ' down mood ': u' xuống cảm xúc ',\n",
        "  ' 1q ': u' một quyển ', ' mood ': u' cảm xúc ', ' google translate ': u' công cụ dịch ', ' đâuf ': u' đầu ',\n",
        "  ' khách hang ': u' khách hàng ', ' cod ': u' có ', ' cskh ': u' cơ sở khách hàng ', ' youtuber ': u' người sáng tạo video ',\n",
        "  ' a ': u' anh ', ' trc ': u' trước ', ' best-seller ': u' bán chạy ', ' self-help ': u' hướng dẫn ', ' manga ': u' truyện tranh Nhật Bản ',\n",
        "  ' standee ': u' bản trưng bày ', ' kout ': u' cao ', ' hong ': u' không ', ' mua nho ': u' mua nha ', ' t7 ': u' thứ bảy ',\n",
        "  ' cn ': u' chủ nhật ', ' vote ': u' bình chọn ', ' luon ': u' luôn ', ' clg ': u' chất lượng ', ' kute ': u' dễ thương ',\n",
        "  ' lun ': u' luôn ', ' 4q ': u' bốn quyển ', ' t6 ': u' thứ sáu ', ' 4 q ': u' bốn quyển ', ' p s ': u' tái bút ',\n",
        "  ' bookcard ': u' thẻ sách ', ' p ': u' phải ', ' o ': u' không ', ' nx ': u' nữa ', ' mạng up ': u' mạng tải lên ',\n",
        "  ' pre ord ': u' đặt trước ', ' giwof ': u' giờ ', ' thanks ': u' cảm ơn ', ' 2 quyen ': u' hai quyển ', ' mọt ': u' một ',\n",
        "  ' cta ': u' chúng ta ', ' vs ': u' và ', ' pótcard ': ' bìa quảng cáo ', ' staff ': u' nhân viên ', ' ng ': u' người ',\n",
        "  ' khong ': u' không ', ' kh ': u' không ', ' siu siu ': u' siêu ', ' check ': u' kiểm tra ', ' h ': u' giờ ',\n",
        "  u' một bênh ': u' một bên ', u' nê ': u' nên ', ' mik ': u' mình ', ' thank ': u' cảm ơn ', u' khônh ': u' không ',\n",
        "  ' tki ': u' tiki ', ' oke ': u' tốt ', ' inbox ': u' nhắn tin ', ' sp ': u' sản phẩm ', ' hthuc ': u' hình thức ',\n",
        "  ' qtrinh ': u' quá trình ', ' onl ': u' trực tuyến ', ' trading ': u' thương mại ', ' mindset ': u' tư duy ',\n",
        "  ' okie ': u' tốt ', ' bds ': u' bất động sản ', ' sale ': u' giảm giá ', ' p1giải ': u' phần một giải ',\n",
        "  ' enneagram ': u' hệ thống phân tích tình cảm ', ' p3 ': u' phần ba ', ' p2 ': u' phần hai ', ' mbti ': ' công cụ đo lường tính cách ',\n",
        "  u' cóa ': u' có ', ' vs ': u' với ', ' notes ': u' chú ý ', ' mjk ': u' mình ', ' tiế rhu ': u' tiếp thu ',\n",
        "  ' love you ': u' yêu ', ' thank you i love you ': u' cảm ơn yêu ', ' pp ': u' phương pháp ', ' 1cuốn ': u' một cuốn ',\n",
        "  ' 1cuộc ': u' một cuộc ', ' cammon ': u' cảm ơn ', ' hsg ': u' học sinh giỏi ', ' thpt ': u' trung học phổ thông ',\n",
        "  ' siêu bưu ': u' to ', ' hk ': u' không ', ' thik ': u' thích ', ' gru ': u' những ', ' e ': u' em ', ' thế flash ': u' nhanh ',\n",
        "  ' siu ': u' siêu ', ' tg ': u' thời gian ', u' khyên ': u' khuyên ', ' font ': u' phông chữ ', ' iu ': u' yêu ',\n",
        "  ' order ': u' đặt ', ' series ': u' chuỗi ', ' ny ': u' người yêu ', ' teen girls ': u' các cô gái trẻ ',\n",
        "  ' weibo ': u' mạng xã hội ', ' ms ': u' mới ', ' ns ': u' nói ', ' fan ': u' người hâm mộ ', ' c ': u' chuyện ',\n",
        "  ' ch ': u' chuyện ', ' kp ': u' không phải ', ' cg ': u' cũng ', ' little bit hoy ': u' một chút thôi ',\n",
        "  ' giao hangg ': u' giao hàng ', ' quốn ': u' cuốn ', ' trading ': u' thương mại ', ' ph ': u' phải ', ' km ': u' khuyến mãi ',\n",
        "  ' best ': u' cực kỳ ', ' scan qr ': u' quét mã vạch ', ' ttck ': u' thị trường chứng khoán ', ' mã qr ': u' mã vạch ',\n",
        "  ' happy live ': u' sống hạnh phúc ', ' mua cty ': u' mua tích trữ ', ' ticker ': u' nhãn dán ', ' bullet journal ': u' mục tiêu hằng ngày ',\n",
        "  ' mini ': u' nhỏ ', ' notebook ': u' sổ tay ', ' trade ': u' thương mại ', ' chồi ôi ': u' trời ơi ', ' form ': u' mẫu ',\n",
        "  ' covid ': u' dịch bệnh ', ' qr code ': u' mã vạch ', ' case ': u' trường hợp ', ' files ': u' tệp ',\n",
        "  ' youtube ': u' trình phát video ', ' freeship ': u' miễn phí giao hàng ', ' feedback ': u' phản hồi ',\n",
        "  ' hotline ': u' đường dây nóng ', ' thoy ': u' thôi ', ' ord ': u' đặt hàng ', ' hs ': u' học sinh ',\n",
        "  ' tphcm ': u' thành phố hồ chí minh ', ' coupon ': u' phiếu giảm giá ', ' zui ': u' vui ', ' tp ': u' tác phẩm ',\n",
        "  ' j ' : u' gì ', 'nnghi ': u' nghĩ ', ' ôi cha ': u' ôi chao ', u' tân trí ': u' tâm trí ', ' laii ': u' lại ',\n",
        "  ' kh ' : u' khách hàng', ' uh ': ' ', u' vêc ': u' về ', ' cmt ' : u' bình luận ', ' vứoi ': u' với ',\n",
        "  ' ngừi ': ' người ', ' âu ': u' đâu ', ' síp ': u' vận chuyển ', ' km ': u' khuyến mãi ', ' kb bnhiu ': u' không biết bao nhiêu ',\n",
        "  ' best seller ': u' bán chạy nhất ', ' nôiij ': u' nội ', ' bh ': u' bao giờ ', ' rev ': u' tóm tắt ', ' m ': u' mình ',\n",
        "  ' xog ': u' xong ', ' news feed ': u' bảng tin ', ' like ': u' thích ', ' unbox ': u' mở hộp ', ' nd ': u' nội dung ',\n",
        "  ' love ': u' yêu ', ' nc ': u' nói chung ', u' đătj ': u' đặt ', u' chuyênh ': u' chuyện ', ' coffee ': u' tiệm cà phê ',\n",
        "  ' chill ': u' thư thái ', ' vintage ': u' cổ điển ', ' t ': u' tôi ', ' packaching ': u' đóng gói ', ' mt ': u' môi trường ',\n",
        "  ' th ': u' thì ', ' onl ': u' trực tuyến ', ' best ': u' tốt nhất ', ' sd ': u' sử dụng ', ' de kiu ': u' quá ',\n",
        "  ' hehe just kidding ': u' đùa thôi ', ' sales ': u' giảm giá ', ' book care ': u' bảo vệ sách ', ' rate ': u' đánh giá ',\n",
        "  ' pùn ': u' buồn ', 'search ': u' tra cứu ', 'mk ': u' mình ', ' trg ': u' trong ', ' chast ': u' chất ',\n",
        "  ' keke ': ' ', ' chrome ': ' ', u' ôg ': u' ông ', u' cũg ': u' cũng ', u' tẻ ': u' rẻ ', ' palette ': u' bảng màu ',\n",
        "  u' đpej ': u' đẹp ', ' rose bengal ': u' hoa hồng ', ' test ': u' kiểm tra ', ' oki ': u' hợp lý ', ' thik ': u' thích ',\n",
        "  ' delay ': u' chậm trễ ', ' patv ': u' phiên âm tiếng việt ', ' chug ': u' chung ', ' out ': u' văng ',\n",
        "  u' hỉu ': u' hiểu ', u' viêtd ': u' viết ', ' post card ': u' thẻ sách ', ' th khảo': u' tham khảo ', ' it s easy': u' thật dễ dàng ',\n",
        "  ' toxic ': u' tiêu cực ', ' clb ': u' câu lạc bộ ', ' diet': u' diệt ', ' ngy ': u' người yêu ', 'rate ': u' đánh giá ',\n",
        "  ' motif ': u' thể loại ', ' spoil ': u' tiết lộ ', ' adn ': u' gen ', ' hr ': u' người tuyển dụng ', ' nc ': u' nước ',\n",
        "  ' happy ending ': u' kết thúc có hậu ', u' pạn ': u' bạn ', u'truện ': u'truyện ', ' perfect': u' hoàn hảo ',\n",
        "  'ship ': 'giao hàng ', ' move your as ': u' chắm chỉ hơn ', ' all ': u' tất cả ', ' lm ': u' làm ', ' ak': u' à ',\n",
        "  ' keep going on ': u' tiếp tục cố gắng ', ' followers': u' người theo dõi ', ' hq ': u' hôm qua ', ' hn ': u' hôm nay ',\n",
        "  ' service ': u' dịch vụ ', u' nhìu': u' nhiều ', ' shiper ': u' người giao hàng ', u' đt ': u' điện thoại ',\n",
        "  'chuc ': u' chúc ', ' bn ': u' bạn ', ' set ': u' bộ ', ' thik': u' thích', ' overated': u' đánh giá cao ',\n",
        "  ' conf ': u' còn ', u' rùi ': u' rồi ', ' tks ': u' cảm ơn ', ' i ': u' tôi ', ' please forgive me ': u' xin tha thứ ',\n",
        "  ' p ': ' phương pháp ', ' ths': u' cảm ơn', ' đag ': u' đang ', ' n ': u' nhưng ', ' handmade ': u' làm bằng tay ',\n",
        "  ' gh ': u' giao hàng ', ' bill ': u' hóa đơn ', u' thâtd ': u' thất ', ' z ': u' vậy ', ' tr ': u' trời ',\n",
        "  ' v ': u' vậy ', ' self love ': u' yêu bản thân ', u' đợn ': u' đơn ', ' game ': u' trò chơi ',' đuoc ': u' được ',\n",
        "  ' flash sale ': u' giảm giá mạnh ', ' code ': u' mã ', u' lừi ': u' lời ', u' rì vêu ': u' tóm tắt ',\n",
        "  # Tập test\n",
        "  ' plastic ': u' nhựa ', ' band ': u' thang điểm ', ' topic ': u' chủ đề ', u' pảt ': u' phần ', ' download ': u' tải xuống ',\n",
        "  ' speaking ': u' nói tiếng anh ', ' ielts ': u' chứng chỉ tiếng anh ', ' keys ': u' đáp án ', u' nhiềi ': u' nhiều ',\n",
        "  ' trươc ': u' trước ', ' mark book': u' dấu trang ', ' tiy ': u' tuy ', ' ad ': u' quản trị viên ', ' backup plan ': u' kế hoạc dự phòng ',\n",
        "  ' reading ': u' đọc tiếng anh ', ' tips ': u' phương pháp ', ' works ': u' làm việc ', ' nhuw ': u' như ',\n",
        "  ' meaning ': u' nghĩa ', ' vd ': u' ví dụ ', ' practice ': u' thực hành ', ' thoai': u' thôi ', ' update ': u' cập nhật ',\n",
        "  ' beginners ': u' người mới ', ' link ': u' liên kết ', ' cảm ơi ': u' cảm ơn ', ' ck ': ' chứng khoán ',\n",
        "  ' video clip ': u' băng hình ', ' gê ': u' ghê ', ' pt ': u' biết ', u' sướt ': u' xước ', ' refer ': u' trích dẫn ',\n",
        "  ' t6 ': u' thứ sáu ', ' t4 ': u' thứ tư ', ' cbcv ': u' chiến binh cầu vồng ', ' very god': u' rất tốt ',\n",
        "  ' nyc ': u' người yêu cũ ', ' mn': u' mọi người', u' rồai ': u' rồi ', 'shop ': u'cửa hàng ', u' mìn ': u' mình ',\n",
        "  ' post ': u' đăng lên ', ' haiz ': ' ', ' hqua ': u' hôm qua ', ' hnay ': u' hôm nay ', ' vl ': ' ', ' tick ': u' ghi ',\n",
        "  ' boxset ': u' gói hàng ', ' box ': u' hộp ', 'poscard': u' bìa '\n",
        "  }\n",
        "\n",
        "  for k, v in replace_list.items():\n",
        "    mess_norm = mess_norm.replace(k, v)\n",
        "\n",
        "  return mess_norm"
      ]
    },
    {
      "cell_type": "code",
      "execution_count": null,
      "metadata": {
        "colab": {
          "base_uri": "https://localhost:8080/",
          "height": 53
        },
        "id": "wsO6VdO-SElA",
        "outputId": "36275f50-8f5e-41c5-bffd-8ebb0e92a0e3"
      },
      "outputs": [
        {
          "output_type": "execute_result",
          "data": {
            "text/plain": [
              "'Hình thức đẹp, còn nguyên màng co. Nội dung thì cũng là văn phong của nguyễn nhật ánh trước giờ chứ không mới mẻ đâu. Là mình thì thấy không hay như truyện Quán gò đi lên hay Nữ sinh. Mình sưu tầm và đọc tất cả sách nguyễn nhật ánh nên đáng mua lắm. Đặc biệt có vài câu thơ khá hay. dấu trang đẹp'"
            ],
            "application/vnd.google.colaboratory.intrinsic+json": {
              "type": "string"
            }
          },
          "metadata": {},
          "execution_count": 13
        }
      ],
      "source": [
        "data_normalized['content'][0]"
      ]
    },
    {
      "cell_type": "code",
      "execution_count": null,
      "metadata": {
        "colab": {
          "base_uri": "https://localhost:8080/"
        },
        "id": "jTj7k2cd8C_M",
        "outputId": "7c67dec4-508d-44a0-d7d9-c15436a5ed61"
      },
      "outputs": [
        {
          "output_type": "execute_result",
          "data": {
            "text/plain": [
              "0      hình thức đẹp còn nguyên màng co nội dung thì ...\n",
              "1      với mỗi tác phẩm của chú nguyễn nhật ánh mình ...\n",
              "2      truyện này của nguyễn nhật ánh khác hẳn với nh...\n",
              "3      truyện viết nhẹ nhàng dí dỏm ngôn ngữ trong sạ...\n",
              "4      mua sách ngay 11 11 hẹn 1 tuần có mà mới 1 ngà...\n",
              "                             ...                        \n",
              "979    giấy quá mỏng chỉ dùng in tạm chứ nếu dùng in ...\n",
              "980    giấy ổn giao hàng nhanh đóng gói tiết kiệm mỗi...\n",
              "981    chưa đọc nên không biết ra sao nhưng cảm thấy ...\n",
              "982    truyện thì chưa đọc nên chưa biết nội dung như...\n",
              "983    giao hàng nhanh hơn dự kiến chất lượng rất tốt...\n",
              "Name: content, Length: 984, dtype: object"
            ]
          },
          "metadata": {},
          "execution_count": 14
        }
      ],
      "source": [
        "data_normalized['content'] = data_normalized['content'].apply(lambda cmt: clean_mess(cmt))\n",
        "data_normalized['content']"
      ]
    },
    {
      "cell_type": "code",
      "execution_count": null,
      "metadata": {
        "colab": {
          "base_uri": "https://localhost:8080/"
        },
        "id": "Rp3i1IR_8RVr",
        "outputId": "978d6e80-65ff-45e9-ad39-f602d9c83125"
      },
      "outputs": [
        {
          "output_type": "stream",
          "name": "stderr",
          "text": [
            "<ipython-input-15-71ce35b0bcdc>:2: SettingWithCopyWarning: \n",
            "A value is trying to be set on a copy of a slice from a DataFrame\n",
            "\n",
            "See the caveats in the documentation: https://pandas.pydata.org/pandas-docs/stable/user_guide/indexing.html#returning-a-view-versus-a-copy\n",
            "  data_normalized['content'][i] = ViTokenizer.tokenize(data_normalized['content'][i])\n"
          ]
        },
        {
          "output_type": "execute_result",
          "data": {
            "text/plain": [
              "0      hình_thức đẹp còn nguyên màng co nội_dung thì ...\n",
              "1      với mỗi tác_phẩm của chú nguyễn nhật ánh mình ...\n",
              "2      truyện này của nguyễn nhật ánh khác hẳn với nh...\n",
              "3      truyện viết nhẹ_nhàng dí_dỏm ngôn_ngữ trong_sạ...\n",
              "4      mua sách ngay 11 11 hẹn 1 tuần có mà mới 1 ngà...\n",
              "                             ...                        \n",
              "979    giấy quá mỏng chỉ dùng in tạm chứ nếu dùng in ...\n",
              "980    giấy ổn giao hàng nhanh đóng_gói tiết_kiệm mỗi...\n",
              "981    chưa đọc nên không biết ra sao nhưng cảm_thấy ...\n",
              "982    truyện thì chưa đọc nên chưa biết nội_dung như...\n",
              "983    giao hàng nhanh hơn dự_kiến chất_lượng rất tốt...\n",
              "Name: content, Length: 984, dtype: object"
            ]
          },
          "metadata": {},
          "execution_count": 15
        }
      ],
      "source": [
        "for i in range(len(data_normalized)):\n",
        "  data_normalized['content'][i] = ViTokenizer.tokenize(data_normalized['content'][i])\n",
        "\n",
        "data_normalized['content']"
      ]
    },
    {
      "cell_type": "code",
      "execution_count": null,
      "metadata": {
        "colab": {
          "base_uri": "https://localhost:8080/",
          "height": 53
        },
        "id": "UH3qG-1Dz3Yf",
        "outputId": "32ed8f6d-8e41-4415-93c6-fe8d464bbad0"
      },
      "outputs": [
        {
          "output_type": "execute_result",
          "data": {
            "text/plain": [
              "'hình_thức đẹp còn nguyên màng co nội_dung thì cũng là văn_phong của nguyễn nhật ánh trước giờ chứ không mới_mẻ đâu là mình thì thấy không hay như truyện quán gò đi lên hay nữ_sinh mình sưu_tầm và đọc tất_cả sách nguyễn nhật ánh nên đánh mua lắm đặc_biệt có vài câu_thơ khá hay dấu trang đẹp'"
            ],
            "application/vnd.google.colaboratory.intrinsic+json": {
              "type": "string"
            }
          },
          "metadata": {},
          "execution_count": 16
        }
      ],
      "source": [
        "data_normalized['content'][0]"
      ]
    },
    {
      "cell_type": "code",
      "execution_count": null,
      "metadata": {
        "id": "uO5EpWxh8ZlO"
      },
      "outputs": [],
      "source": [
        "from sklearn import metrics\n",
        "from sklearn.metrics import confusion_matrix\n",
        "from sklearn.pipeline import Pipeline\n",
        "from sklearn.feature_extraction.text import CountVectorizer, TfidfTransformer\n",
        "from sklearn.svm import LinearSVC\n",
        "from sklearn.model_selection import train_test_split\n",
        "import pickle\n",
        "import time"
      ]
    },
    {
      "cell_type": "code",
      "execution_count": null,
      "metadata": {
        "id": "slXEIAqCB9v_"
      },
      "outputs": [],
      "source": [
        "from sklearn.svm import SVC\n",
        "from sklearn.metrics import accuracy_score"
      ]
    },
    {
      "cell_type": "code",
      "execution_count": null,
      "metadata": {
        "id": "aZ6SCi1f8b-f"
      },
      "outputs": [],
      "source": [
        "X_train, X_test, y_train, y_test = train_test_split(data_normalized['content'], data_normalized['sentiment'], test_size = 0.2, random_state = 42)"
      ]
    },
    {
      "cell_type": "code",
      "execution_count": null,
      "metadata": {
        "colab": {
          "base_uri": "https://localhost:8080/"
        },
        "id": "fBhoUtW78wyq",
        "outputId": "887ede23-a1dd-4cce-e8e5-428f109601c8"
      },
      "outputs": [
        {
          "output_type": "execute_result",
          "data": {
            "text/plain": [
              "962    hình_thức 5 vì giấy đẹp bắt_mắt mua cho cháu n...\n",
              "762    sách bị như vậy_mà có_thể giao được quá tệ lần...\n",
              "334    mua 3 quyển đóng_gói thì mình nghĩ hộp giấy củ...\n",
              "889    giao hàng rất chậm nha mọi người mình đặt 1 tu...\n",
              "529    chất_lượng sách ổn mình đọc qua thấy dễ hiểu v...\n",
              "                             ...                        \n",
              "106    sách trình_bày đẹp và đánh đọc tuy_nhiên khâu ...\n",
              "270    đọc nhiều bình_luận tích_cực nên hôm_nay mình ...\n",
              "860    chất_lượng sách kém vừa mua 1 ngày đã bong hết...\n",
              "435    sau khi đọc cuốn này nó giúp mình thay_đổi ít_...\n",
              "102    hôm thứ năm tôi đặt là thứ hai tuần sau mới có...\n",
              "Name: content, Length: 787, dtype: object"
            ]
          },
          "metadata": {},
          "execution_count": 20
        }
      ],
      "source": [
        "X_train"
      ]
    },
    {
      "cell_type": "code",
      "execution_count": null,
      "metadata": {
        "colab": {
          "base_uri": "https://localhost:8080/"
        },
        "id": "7wbrzZJnVz3r",
        "outputId": "1ce416d2-ea94-4619-8e41-71b9e89812cb"
      },
      "outputs": [
        {
          "output_type": "execute_result",
          "data": {
            "text/plain": [
              "613    sách rất hay nha_nội dug phù_hợp với mọi lứa tuổi\n",
              "451    nghe cô ngữ_văn nói nên đọc quyển này để trao ...\n",
              "731    tác_giả có chia_sẻ cách để sống mà ít bệnh hơn...\n",
              "436    mỗi người nên đầu_tư cho bản_thân mình cuốn sá...\n",
              "275    sách hay và giúp_ích rất nhiều cho chặng đường...\n",
              "                             ...                        \n",
              "292    ấn_tượng đầu_tiên của mình là sách siêu siêu t...\n",
              "209    sản_phẩm có chất_lượng tuyệt_vời đúng như mô_t...\n",
              "506    về nội_dung mình không nói tới bởi_vì tác_phẩm...\n",
              "49     mình đã đọc nhiều cuốn cổ_vũ tinh_thần kiểu nà...\n",
              "717    cuộn băng_keo khá mỏng không đủ 3m như miêu_tả...\n",
              "Name: content, Length: 197, dtype: object"
            ]
          },
          "metadata": {},
          "execution_count": 21
        }
      ],
      "source": [
        "X_test"
      ]
    },
    {
      "cell_type": "markdown",
      "metadata": {
        "id": "ZAqPjf_7SsI4"
      },
      "source": [
        "# SVM"
      ]
    },
    {
      "cell_type": "code",
      "execution_count": null,
      "metadata": {
        "id": "eRIYFlNWMQBu"
      },
      "outputs": [],
      "source": [
        "from sklearn.model_selection import GridSearchCV"
      ]
    },
    {
      "cell_type": "code",
      "execution_count": null,
      "metadata": {
        "id": "LXFcxFtyMXrj"
      },
      "outputs": [],
      "source": [
        "parameters = {\n",
        "    'C': [0.1, 1, 10],\n",
        "    'kernel': ['poly', 'linear', 'rbf', 'sigmoid'],\n",
        "    'degree': [3, 4, 5],\n",
        "    'gamma': [0.01, 0.1, 1]\n",
        "}"
      ]
    },
    {
      "cell_type": "code",
      "execution_count": null,
      "metadata": {
        "id": "_I8-yOZZNvX4"
      },
      "outputs": [],
      "source": [
        "# count_vec = CountVectorizer()\n",
        "# X_train = count_vec.fit_transform(X_train)"
      ]
    },
    {
      "cell_type": "code",
      "execution_count": null,
      "metadata": {
        "id": "tEaFgSZ-O8bY"
      },
      "outputs": [],
      "source": [
        "# tfidf_transformer = TfidfTransformer()\n",
        "# X_train = tfidf_transformer.fit_transform(X_train)"
      ]
    },
    {
      "cell_type": "code",
      "execution_count": null,
      "metadata": {
        "id": "bbsH1lw6Vhjn"
      },
      "outputs": [],
      "source": [
        "# X_test = count_vec.transform(X_test)\n",
        "# X_test = tfidf_transformer.transform(X_test)"
      ]
    },
    {
      "cell_type": "code",
      "execution_count": null,
      "metadata": {
        "id": "kmMnR9lRMynQ"
      },
      "outputs": [],
      "source": [
        "# grid = GridSearchCV(SVC(), parameters, cv = 5, refit = True, verbose = 2)\n",
        "# grid.fit(X_train, y_train)"
      ]
    },
    {
      "cell_type": "code",
      "execution_count": null,
      "metadata": {
        "id": "n6ItaI-eNBcF"
      },
      "outputs": [],
      "source": [
        "# grid.best_params_"
      ]
    },
    {
      "cell_type": "code",
      "execution_count": null,
      "metadata": {
        "id": "VIp7yiPPPUHx"
      },
      "outputs": [],
      "source": [
        "# grid.best_estimator_"
      ]
    },
    {
      "cell_type": "code",
      "execution_count": null,
      "metadata": {
        "id": "esu0xfiLZsjR"
      },
      "outputs": [],
      "source": []
    },
    {
      "cell_type": "code",
      "execution_count": null,
      "metadata": {
        "id": "k48yLK_O82i7"
      },
      "outputs": [],
      "source": [
        "steps = []\n",
        "steps.append(('CountVectorizer', CountVectorizer(ngram_range=(1,5) ,max_df=0.5, min_df=5)))\n",
        "# steps.append(('CountVectorizer', CountVectorizer()))\n",
        "steps.append(('tfidf', TfidfTransformer(use_idf=False, sublinear_tf = True,norm='l2',smooth_idf=True)))\n",
        "# steps.append(('tfidf', TfidfTransformer()))\n",
        "# steps.append(('classifier',  SVC()))\n",
        "# steps.append(('classifier',  SVC(C = 10, kernel = 'rbf', gamma = 1)))\n",
        "steps.append(('classifier',  SVC(C = 1, kernel = 'linear')))\n",
        "# steps.append(('classifier',  LinearSVC(dual=False, tol=1e-3, penalty=\"l2\", loss='squared_hinge')))\n",
        "clf = Pipeline(steps)\n",
        "start = time.time()\n",
        "clf.fit(X_train, y_train)\n",
        "end = time.time()\n",
        "y_pred = clf.predict(X_test)\n",
        "report = metrics.classification_report(y_test, y_pred, labels=[1,0,-1], digits=3)"
      ]
    },
    {
      "cell_type": "code",
      "execution_count": null,
      "metadata": {
        "colab": {
          "base_uri": "https://localhost:8080/"
        },
        "id": "fgjVmqpx83JG",
        "outputId": "017bc5e9-32af-4846-ae20-d119d45098a6"
      },
      "outputs": [
        {
          "output_type": "stream",
          "name": "stdout",
          "text": [
            "TRAIN               precision    recall  f1-score   support\n",
            "\n",
            "           1      0.740     0.794     0.766        68\n",
            "           0      0.600     0.554     0.576        65\n",
            "          -1      0.703     0.703     0.703        64\n",
            "\n",
            "    accuracy                          0.685       197\n",
            "   macro avg      0.681     0.684     0.682       197\n",
            "weighted avg      0.682     0.685     0.683       197\n",
            "\n",
            "Time Train 1.0149056911468506\n"
          ]
        }
      ],
      "source": [
        "print('TRAIN',report)\n",
        "print('Time Train', end - start)"
      ]
    },
    {
      "cell_type": "code",
      "execution_count": null,
      "metadata": {
        "colab": {
          "base_uri": "https://localhost:8080/"
        },
        "id": "tZ9onUbiEcW2",
        "outputId": "8f889eb4-67d0-4a48-8dbd-a4c246872811"
      },
      "outputs": [
        {
          "output_type": "stream",
          "name": "stdout",
          "text": [
            "Accuracy: 0.6852791878172588\n"
          ]
        }
      ],
      "source": [
        "print(\"Accuracy:\",accuracy_score(y_test, y_pred))\n",
        "#print(\"f1-score:\", metrics.f1_score(y_test, y_pred))"
      ]
    },
    {
      "cell_type": "code",
      "source": [
        "print(\"f1-score:\", metrics.f1_score(y_test, y_pred, average='weighted'))"
      ],
      "metadata": {
        "colab": {
          "base_uri": "https://localhost:8080/"
        },
        "id": "yINf_d8J424l",
        "outputId": "624178d1-1ffd-4524-d47c-00b93ec125c3"
      },
      "execution_count": null,
      "outputs": [
        {
          "output_type": "stream",
          "name": "stdout",
          "text": [
            "f1-score: 0.6828685603196889\n"
          ]
        }
      ]
    },
    {
      "cell_type": "code",
      "source": [
        "%cd /content/drive/MyDrive/Đồ án 1/Test\n",
        "!ls"
      ],
      "metadata": {
        "colab": {
          "base_uri": "https://localhost:8080/"
        },
        "id": "LoXxac1DaOMm",
        "outputId": "3088829d-c2fc-43aa-87dc-9f33236db4ec"
      },
      "execution_count": null,
      "outputs": [
        {
          "output_type": "stream",
          "name": "stdout",
          "text": [
            "/content/drive/MyDrive/Đồ án 1/Test\n",
            "'Classification 3 label.ipynb'\t    'lstm tuner.ipynb'\n",
            " data_balanced.csv\t\t     stopwords.txt\n",
            " data_normalized.csv\t\t    'Sửa lỗi chính tả.ipynb'\n",
            " data_test.csv\t\t\t     svm.ipynb\n",
            " data_train.csv\t\t\t     svm.pkl\n",
            "'Đồ án 1 - Nguyễn Quang Minh.docx'   tuner_lstm\n",
            "'inference svm.ipynb'\t\t    'VD LSTM 3 labels.ipynb'\n",
            " lstm.ipynb\n"
          ]
        }
      ]
    },
    {
      "cell_type": "code",
      "source": [
        "import pickle\n",
        "# Lưu vào file\n",
        "with open('svm.pkl', 'wb') as f:\n",
        "  pickle.dump(clf, f)"
      ],
      "metadata": {
        "id": "JWSZZsHlZ7hc"
      },
      "execution_count": null,
      "outputs": []
    },
    {
      "cell_type": "code",
      "source": [],
      "metadata": {
        "id": "ZwF0gH7DZ7k3"
      },
      "execution_count": null,
      "outputs": []
    }
  ],
  "metadata": {
    "colab": {
      "provenance": [],
      "gpuType": "T4"
    },
    "kernelspec": {
      "display_name": "Python 3",
      "name": "python3"
    },
    "language_info": {
      "name": "python"
    }
  },
  "nbformat": 4,
  "nbformat_minor": 0
}